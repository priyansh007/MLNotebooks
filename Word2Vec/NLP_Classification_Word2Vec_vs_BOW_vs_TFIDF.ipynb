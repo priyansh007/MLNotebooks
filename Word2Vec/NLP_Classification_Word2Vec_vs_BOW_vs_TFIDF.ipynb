{
  "nbformat": 4,
  "nbformat_minor": 0,
  "metadata": {
    "colab": {
      "provenance": [],
      "gpuType": "T4"
    },
    "kernelspec": {
      "name": "python3",
      "display_name": "Python 3"
    },
    "language_info": {
      "name": "python"
    },
    "accelerator": "GPU"
  },
  "cells": [
    {
      "cell_type": "markdown",
      "source": [
        "## Install & Import Libraries"
      ],
      "metadata": {
        "id": "tuOIWlFGAeZF"
      }
    },
    {
      "cell_type": "code",
      "source": [
        "pip install tqdm"
      ],
      "metadata": {
        "colab": {
          "base_uri": "https://localhost:8080/"
        },
        "id": "tOTt3ctetXr8",
        "outputId": "1b02e3ac-151e-4319-9ec8-c0c5bca07422"
      },
      "execution_count": 1,
      "outputs": [
        {
          "output_type": "stream",
          "name": "stdout",
          "text": [
            "Requirement already satisfied: tqdm in /usr/local/lib/python3.10/dist-packages (4.66.1)\n"
          ]
        }
      ]
    },
    {
      "cell_type": "code",
      "execution_count": 2,
      "metadata": {
        "colab": {
          "base_uri": "https://localhost:8080/"
        },
        "id": "4vL7Zc0A2QLO",
        "outputId": "dc036e42-bd0a-4c2a-d814-2a25321a6a79"
      },
      "outputs": [
        {
          "output_type": "stream",
          "name": "stderr",
          "text": [
            "[nltk_data] Downloading package punkt to /root/nltk_data...\n",
            "[nltk_data]   Unzipping tokenizers/punkt.zip.\n",
            "[nltk_data] Downloading package stopwords to /root/nltk_data...\n",
            "[nltk_data]   Unzipping corpora/stopwords.zip.\n",
            "[nltk_data] Downloading package wordnet to /root/nltk_data...\n"
          ]
        }
      ],
      "source": [
        "import pandas as pd\n",
        "import numpy as np\n",
        "import nltk\n",
        "nltk.download('punkt')\n",
        "nltk.download('stopwords')\n",
        "nltk.download('wordnet')\n",
        "import re\n",
        "from nltk import sent_tokenize\n",
        "from nltk import word_tokenize\n",
        "import string\n",
        "from nltk.corpus import stopwords\n",
        "from nltk.stem import WordNetLemmatizer\n",
        "from tqdm import tqdm"
      ]
    },
    {
      "cell_type": "markdown",
      "source": [
        "## PreProcess Data"
      ],
      "metadata": {
        "id": "t6oMUBp5Ai6L"
      }
    },
    {
      "cell_type": "code",
      "source": [
        "!wget -O dataset.csv \"https://drive.google.com/uc?export=download&id=1s128Fg1-0udJzZb3--3lWY5brFacCQyT&confirm=NEW_FILE_CONFIRM_CODE\""
      ],
      "metadata": {
        "colab": {
          "base_uri": "https://localhost:8080/"
        },
        "id": "eDngpV37Ao_e",
        "outputId": "b2e06fcd-d1e4-449f-ffde-2e80e8f9c04f"
      },
      "execution_count": 3,
      "outputs": [
        {
          "output_type": "stream",
          "name": "stdout",
          "text": [
            "--2024-02-03 18:37:24--  https://drive.google.com/uc?export=download&id=1s128Fg1-0udJzZb3--3lWY5brFacCQyT&confirm=NEW_FILE_CONFIRM_CODE\n",
            "Resolving drive.google.com (drive.google.com)... 142.250.1.100, 142.250.1.102, 142.250.1.139, ...\n",
            "Connecting to drive.google.com (drive.google.com)|142.250.1.100|:443... connected.\n",
            "HTTP request sent, awaiting response... 303 See Other\n",
            "Location: https://drive.usercontent.google.com/download?id=1s128Fg1-0udJzZb3--3lWY5brFacCQyT&export=download [following]\n",
            "--2024-02-03 18:37:25--  https://drive.usercontent.google.com/download?id=1s128Fg1-0udJzZb3--3lWY5brFacCQyT&export=download\n",
            "Resolving drive.usercontent.google.com (drive.usercontent.google.com)... 209.85.145.132, 2607:f8b0:4001:c1f::84\n",
            "Connecting to drive.usercontent.google.com (drive.usercontent.google.com)|209.85.145.132|:443... connected.\n",
            "HTTP request sent, awaiting response... 200 OK\n",
            "Length: 66212309 (63M) [application/octet-stream]\n",
            "Saving to: ‘dataset.csv’\n",
            "\n",
            "dataset.csv         100%[===================>]  63.14M   173MB/s    in 0.4s    \n",
            "\n",
            "2024-02-03 18:37:28 (173 MB/s) - ‘dataset.csv’ saved [66212309/66212309]\n",
            "\n"
          ]
        }
      ]
    },
    {
      "cell_type": "code",
      "source": [
        "df = pd.read_csv('dataset.csv')\n",
        "df = df[:5000]\n",
        "df.head()"
      ],
      "metadata": {
        "colab": {
          "base_uri": "https://localhost:8080/",
          "height": 206
        },
        "id": "P4dcBpiDeF1d",
        "outputId": "6fcc84dd-b168-40e5-cc3d-fb306fe3b299"
      },
      "execution_count": 49,
      "outputs": [
        {
          "output_type": "execute_result",
          "data": {
            "text/plain": [
              "                                              review sentiment\n",
              "0  One of the other reviewers has mentioned that ...  positive\n",
              "1  A wonderful little production. <br /><br />The...  positive\n",
              "2  I thought this was a wonderful way to spend ti...  positive\n",
              "3  Basically there's a family where a little boy ...  negative\n",
              "4  Petter Mattei's \"Love in the Time of Money\" is...  positive"
            ],
            "text/html": [
              "\n",
              "  <div id=\"df-a03742f6-d6dc-4289-ba4a-8174c164b3eb\" class=\"colab-df-container\">\n",
              "    <div>\n",
              "<style scoped>\n",
              "    .dataframe tbody tr th:only-of-type {\n",
              "        vertical-align: middle;\n",
              "    }\n",
              "\n",
              "    .dataframe tbody tr th {\n",
              "        vertical-align: top;\n",
              "    }\n",
              "\n",
              "    .dataframe thead th {\n",
              "        text-align: right;\n",
              "    }\n",
              "</style>\n",
              "<table border=\"1\" class=\"dataframe\">\n",
              "  <thead>\n",
              "    <tr style=\"text-align: right;\">\n",
              "      <th></th>\n",
              "      <th>review</th>\n",
              "      <th>sentiment</th>\n",
              "    </tr>\n",
              "  </thead>\n",
              "  <tbody>\n",
              "    <tr>\n",
              "      <th>0</th>\n",
              "      <td>One of the other reviewers has mentioned that ...</td>\n",
              "      <td>positive</td>\n",
              "    </tr>\n",
              "    <tr>\n",
              "      <th>1</th>\n",
              "      <td>A wonderful little production. &lt;br /&gt;&lt;br /&gt;The...</td>\n",
              "      <td>positive</td>\n",
              "    </tr>\n",
              "    <tr>\n",
              "      <th>2</th>\n",
              "      <td>I thought this was a wonderful way to spend ti...</td>\n",
              "      <td>positive</td>\n",
              "    </tr>\n",
              "    <tr>\n",
              "      <th>3</th>\n",
              "      <td>Basically there's a family where a little boy ...</td>\n",
              "      <td>negative</td>\n",
              "    </tr>\n",
              "    <tr>\n",
              "      <th>4</th>\n",
              "      <td>Petter Mattei's \"Love in the Time of Money\" is...</td>\n",
              "      <td>positive</td>\n",
              "    </tr>\n",
              "  </tbody>\n",
              "</table>\n",
              "</div>\n",
              "    <div class=\"colab-df-buttons\">\n",
              "\n",
              "  <div class=\"colab-df-container\">\n",
              "    <button class=\"colab-df-convert\" onclick=\"convertToInteractive('df-a03742f6-d6dc-4289-ba4a-8174c164b3eb')\"\n",
              "            title=\"Convert this dataframe to an interactive table.\"\n",
              "            style=\"display:none;\">\n",
              "\n",
              "  <svg xmlns=\"http://www.w3.org/2000/svg\" height=\"24px\" viewBox=\"0 -960 960 960\">\n",
              "    <path d=\"M120-120v-720h720v720H120Zm60-500h600v-160H180v160Zm220 220h160v-160H400v160Zm0 220h160v-160H400v160ZM180-400h160v-160H180v160Zm440 0h160v-160H620v160ZM180-180h160v-160H180v160Zm440 0h160v-160H620v160Z\"/>\n",
              "  </svg>\n",
              "    </button>\n",
              "\n",
              "  <style>\n",
              "    .colab-df-container {\n",
              "      display:flex;\n",
              "      gap: 12px;\n",
              "    }\n",
              "\n",
              "    .colab-df-convert {\n",
              "      background-color: #E8F0FE;\n",
              "      border: none;\n",
              "      border-radius: 50%;\n",
              "      cursor: pointer;\n",
              "      display: none;\n",
              "      fill: #1967D2;\n",
              "      height: 32px;\n",
              "      padding: 0 0 0 0;\n",
              "      width: 32px;\n",
              "    }\n",
              "\n",
              "    .colab-df-convert:hover {\n",
              "      background-color: #E2EBFA;\n",
              "      box-shadow: 0px 1px 2px rgba(60, 64, 67, 0.3), 0px 1px 3px 1px rgba(60, 64, 67, 0.15);\n",
              "      fill: #174EA6;\n",
              "    }\n",
              "\n",
              "    .colab-df-buttons div {\n",
              "      margin-bottom: 4px;\n",
              "    }\n",
              "\n",
              "    [theme=dark] .colab-df-convert {\n",
              "      background-color: #3B4455;\n",
              "      fill: #D2E3FC;\n",
              "    }\n",
              "\n",
              "    [theme=dark] .colab-df-convert:hover {\n",
              "      background-color: #434B5C;\n",
              "      box-shadow: 0px 1px 3px 1px rgba(0, 0, 0, 0.15);\n",
              "      filter: drop-shadow(0px 1px 2px rgba(0, 0, 0, 0.3));\n",
              "      fill: #FFFFFF;\n",
              "    }\n",
              "  </style>\n",
              "\n",
              "    <script>\n",
              "      const buttonEl =\n",
              "        document.querySelector('#df-a03742f6-d6dc-4289-ba4a-8174c164b3eb button.colab-df-convert');\n",
              "      buttonEl.style.display =\n",
              "        google.colab.kernel.accessAllowed ? 'block' : 'none';\n",
              "\n",
              "      async function convertToInteractive(key) {\n",
              "        const element = document.querySelector('#df-a03742f6-d6dc-4289-ba4a-8174c164b3eb');\n",
              "        const dataTable =\n",
              "          await google.colab.kernel.invokeFunction('convertToInteractive',\n",
              "                                                    [key], {});\n",
              "        if (!dataTable) return;\n",
              "\n",
              "        const docLinkHtml = 'Like what you see? Visit the ' +\n",
              "          '<a target=\"_blank\" href=https://colab.research.google.com/notebooks/data_table.ipynb>data table notebook</a>'\n",
              "          + ' to learn more about interactive tables.';\n",
              "        element.innerHTML = '';\n",
              "        dataTable['output_type'] = 'display_data';\n",
              "        await google.colab.output.renderOutput(dataTable, element);\n",
              "        const docLink = document.createElement('div');\n",
              "        docLink.innerHTML = docLinkHtml;\n",
              "        element.appendChild(docLink);\n",
              "      }\n",
              "    </script>\n",
              "  </div>\n",
              "\n",
              "\n",
              "<div id=\"df-905b9acf-a859-4c15-8e8a-d908ca08bb93\">\n",
              "  <button class=\"colab-df-quickchart\" onclick=\"quickchart('df-905b9acf-a859-4c15-8e8a-d908ca08bb93')\"\n",
              "            title=\"Suggest charts\"\n",
              "            style=\"display:none;\">\n",
              "\n",
              "<svg xmlns=\"http://www.w3.org/2000/svg\" height=\"24px\"viewBox=\"0 0 24 24\"\n",
              "     width=\"24px\">\n",
              "    <g>\n",
              "        <path d=\"M19 3H5c-1.1 0-2 .9-2 2v14c0 1.1.9 2 2 2h14c1.1 0 2-.9 2-2V5c0-1.1-.9-2-2-2zM9 17H7v-7h2v7zm4 0h-2V7h2v10zm4 0h-2v-4h2v4z\"/>\n",
              "    </g>\n",
              "</svg>\n",
              "  </button>\n",
              "\n",
              "<style>\n",
              "  .colab-df-quickchart {\n",
              "      --bg-color: #E8F0FE;\n",
              "      --fill-color: #1967D2;\n",
              "      --hover-bg-color: #E2EBFA;\n",
              "      --hover-fill-color: #174EA6;\n",
              "      --disabled-fill-color: #AAA;\n",
              "      --disabled-bg-color: #DDD;\n",
              "  }\n",
              "\n",
              "  [theme=dark] .colab-df-quickchart {\n",
              "      --bg-color: #3B4455;\n",
              "      --fill-color: #D2E3FC;\n",
              "      --hover-bg-color: #434B5C;\n",
              "      --hover-fill-color: #FFFFFF;\n",
              "      --disabled-bg-color: #3B4455;\n",
              "      --disabled-fill-color: #666;\n",
              "  }\n",
              "\n",
              "  .colab-df-quickchart {\n",
              "    background-color: var(--bg-color);\n",
              "    border: none;\n",
              "    border-radius: 50%;\n",
              "    cursor: pointer;\n",
              "    display: none;\n",
              "    fill: var(--fill-color);\n",
              "    height: 32px;\n",
              "    padding: 0;\n",
              "    width: 32px;\n",
              "  }\n",
              "\n",
              "  .colab-df-quickchart:hover {\n",
              "    background-color: var(--hover-bg-color);\n",
              "    box-shadow: 0 1px 2px rgba(60, 64, 67, 0.3), 0 1px 3px 1px rgba(60, 64, 67, 0.15);\n",
              "    fill: var(--button-hover-fill-color);\n",
              "  }\n",
              "\n",
              "  .colab-df-quickchart-complete:disabled,\n",
              "  .colab-df-quickchart-complete:disabled:hover {\n",
              "    background-color: var(--disabled-bg-color);\n",
              "    fill: var(--disabled-fill-color);\n",
              "    box-shadow: none;\n",
              "  }\n",
              "\n",
              "  .colab-df-spinner {\n",
              "    border: 2px solid var(--fill-color);\n",
              "    border-color: transparent;\n",
              "    border-bottom-color: var(--fill-color);\n",
              "    animation:\n",
              "      spin 1s steps(1) infinite;\n",
              "  }\n",
              "\n",
              "  @keyframes spin {\n",
              "    0% {\n",
              "      border-color: transparent;\n",
              "      border-bottom-color: var(--fill-color);\n",
              "      border-left-color: var(--fill-color);\n",
              "    }\n",
              "    20% {\n",
              "      border-color: transparent;\n",
              "      border-left-color: var(--fill-color);\n",
              "      border-top-color: var(--fill-color);\n",
              "    }\n",
              "    30% {\n",
              "      border-color: transparent;\n",
              "      border-left-color: var(--fill-color);\n",
              "      border-top-color: var(--fill-color);\n",
              "      border-right-color: var(--fill-color);\n",
              "    }\n",
              "    40% {\n",
              "      border-color: transparent;\n",
              "      border-right-color: var(--fill-color);\n",
              "      border-top-color: var(--fill-color);\n",
              "    }\n",
              "    60% {\n",
              "      border-color: transparent;\n",
              "      border-right-color: var(--fill-color);\n",
              "    }\n",
              "    80% {\n",
              "      border-color: transparent;\n",
              "      border-right-color: var(--fill-color);\n",
              "      border-bottom-color: var(--fill-color);\n",
              "    }\n",
              "    90% {\n",
              "      border-color: transparent;\n",
              "      border-bottom-color: var(--fill-color);\n",
              "    }\n",
              "  }\n",
              "</style>\n",
              "\n",
              "  <script>\n",
              "    async function quickchart(key) {\n",
              "      const quickchartButtonEl =\n",
              "        document.querySelector('#' + key + ' button');\n",
              "      quickchartButtonEl.disabled = true;  // To prevent multiple clicks.\n",
              "      quickchartButtonEl.classList.add('colab-df-spinner');\n",
              "      try {\n",
              "        const charts = await google.colab.kernel.invokeFunction(\n",
              "            'suggestCharts', [key], {});\n",
              "      } catch (error) {\n",
              "        console.error('Error during call to suggestCharts:', error);\n",
              "      }\n",
              "      quickchartButtonEl.classList.remove('colab-df-spinner');\n",
              "      quickchartButtonEl.classList.add('colab-df-quickchart-complete');\n",
              "    }\n",
              "    (() => {\n",
              "      let quickchartButtonEl =\n",
              "        document.querySelector('#df-905b9acf-a859-4c15-8e8a-d908ca08bb93 button');\n",
              "      quickchartButtonEl.style.display =\n",
              "        google.colab.kernel.accessAllowed ? 'block' : 'none';\n",
              "    })();\n",
              "  </script>\n",
              "</div>\n",
              "\n",
              "    </div>\n",
              "  </div>\n"
            ]
          },
          "metadata": {},
          "execution_count": 49
        }
      ]
    },
    {
      "cell_type": "code",
      "source": [
        "df['review'][700]"
      ],
      "metadata": {
        "colab": {
          "base_uri": "https://localhost:8080/",
          "height": 139
        },
        "id": "zK5Ff4bTQgd_",
        "outputId": "74742fc7-e649-45a0-d000-be136b6bb0a1"
      },
      "execution_count": 11,
      "outputs": [
        {
          "output_type": "execute_result",
          "data": {
            "text/plain": [
              "\"Unfortunately the only spoiler in this review is that there's nothing to spoil about that movie.Even if B. Mattei had never done any master piece he use to do his job with a bit of humor and craziness that made him a fun Eurotrash director. But for the last 10 years he seemed to have lost it.This film is just empty, nothing at all to wake us up from the deep sleep you sink into after the first 10 min.No sex, no blood(it's suppose to be about snuff?),no actors, no dialogs, just as bad as an 90'T.V film.It's even worse than his last cannibals and zombies epics.So Rest in peace Bruno, you will stay in our minds forever anyway, thanks to such unforgettable gems as:Zombi 3, Robowar,Rats, l'altro inferno,Virus, Cruel jaws and few others.So except if you want to see B Mattei possessed by jess Franco's spirit's new film, pass on this one.But if you don't know this nice artisan's career track down his old films and have fun.\""
            ],
            "application/vnd.google.colaboratory.intrinsic+json": {
              "type": "string"
            }
          },
          "metadata": {},
          "execution_count": 11
        }
      ]
    },
    {
      "cell_type": "code",
      "source": [
        "corpus=[]\n",
        "corpus_words=[]\n",
        "for item in tqdm(df['review']):\n",
        "  sentences = sent_tokenize(item)\n",
        "  temp2 = []\n",
        "  for sent in sentences:\n",
        "    sent = re.sub(r'<br',' ',sent)\n",
        "    sent = sent.lower()\n",
        "    words = word_tokenize(sent)\n",
        "    punctuation = string.punctuation\n",
        "    stop_words = set(stopwords.words('english'))\n",
        "    temp = [word for word in words if (word[0] not in punctuation) and (word not in stop_words)] #Remove punctuation\n",
        "    lemmatizer = WordNetLemmatizer()\n",
        "    preprocessed_words = [lemmatizer.lemmatize(word) for word in temp]\n",
        "    corpus_words.append(preprocessed_words)\n",
        "    temp2.append(' '.join(preprocessed_words))\n",
        "  temp2 = '. '.join(temp2)\n",
        "  corpus.append(temp2)\n",
        "corpus[:2]"
      ],
      "metadata": {
        "colab": {
          "base_uri": "https://localhost:8080/"
        },
        "id": "jKO_dCPDepSP",
        "outputId": "9a8e61d2-1eae-46cd-f715-b6e48a4e78b0"
      },
      "execution_count": 10,
      "outputs": [
        {
          "output_type": "stream",
          "name": "stderr",
          "text": [
            "100%|██████████| 5000/5000 [00:28<00:00, 173.04it/s]\n"
          ]
        },
        {
          "output_type": "execute_result",
          "data": {
            "text/plain": [
              "[\"one reviewer mentioned watching 1 oz episode hooked. right exactly happened first thing struck oz brutality unflinching scene violence set right word go. trust show faint hearted timid. show pull punch regard drug sex violence. hardcore classic use word called oz nickname given oswald maximum security state penitentary. focus mainly emerald city experimental section prison cell glass front face inwards privacy high agenda. em city home many aryan muslim gangsta latino christian italian irish scuffle death stare dodgy dealing shady agreement never far away would say main appeal show due fact go show would n't dare. forget pretty picture painted mainstream audience forget charm forget romance oz n't mess around. first episode ever saw struck nasty surreal could n't say ready watched developed taste oz got accustomed high level graphic violence. violence injustice crooked guard sold nickel inmate kill order get away well mannered middle class inmate turned prison bitch due lack street skill prison experience watching oz may become comfortable uncomfortable viewing thats get touch darker side\",\n",
              " 'wonderful little production. filming technique unassuming- old-time-bbc fashion give comforting sometimes discomforting sense realism entire piece. actor extremely well chosen- michael sheen got polari voice pat. truly see seamless editing guided reference williams diary entry well worth watching terrificly written performed piece. masterful production one great master comedy life. realism really come home little thing fantasy guard rather use traditional technique remains solid disappears. play knowledge sens particularly scene concerning orton halliwell set particularly flat halliwell mural decorating every surface terribly well done']"
            ]
          },
          "metadata": {},
          "execution_count": 10
        }
      ]
    },
    {
      "cell_type": "markdown",
      "source": [
        "## BOW"
      ],
      "metadata": {
        "id": "68kX6n7-ApRa"
      }
    },
    {
      "cell_type": "code",
      "source": [
        "from sklearn.feature_extraction.text import CountVectorizer\n",
        "cv = CountVectorizer(max_features=2500)\n",
        "X_BOW = cv.fit_transform(corpus).toarray()"
      ],
      "metadata": {
        "id": "2P3zAsR6AtaX"
      },
      "execution_count": 13,
      "outputs": []
    },
    {
      "cell_type": "code",
      "source": [
        "y = pd.get_dummies(df['sentiment'],drop_first=True)"
      ],
      "metadata": {
        "id": "EYhYMq0EhrHP"
      },
      "execution_count": 14,
      "outputs": []
    },
    {
      "cell_type": "markdown",
      "source": [
        "## TF-IDF"
      ],
      "metadata": {
        "id": "AKtJFQOJAtzg"
      }
    },
    {
      "cell_type": "code",
      "source": [
        "from sklearn.feature_extraction.text import TfidfVectorizer\n",
        "tv = TfidfVectorizer(max_features=2500)\n",
        "X_TF_IDF = tv.fit_transform(corpus).toarray()"
      ],
      "metadata": {
        "id": "JULdOnEaAv5X"
      },
      "execution_count": 15,
      "outputs": []
    },
    {
      "cell_type": "markdown",
      "source": [
        "## Word2Vec"
      ],
      "metadata": {
        "id": "bVcHQTKRAwBg"
      }
    },
    {
      "cell_type": "code",
      "source": [
        "from gensim.models import Word2Vec\n",
        "model = Word2Vec(corpus_words, window=5, vector_size=100, min_count = 2)"
      ],
      "metadata": {
        "id": "iXJaEvCjAyez"
      },
      "execution_count": 16,
      "outputs": []
    },
    {
      "cell_type": "code",
      "source": [
        "model.wv.index_to_key[0:10]"
      ],
      "metadata": {
        "colab": {
          "base_uri": "https://localhost:8080/"
        },
        "id": "q9w5CUO3lhlD",
        "outputId": "ecc37690-e657-4bfb-8569-bcd2f3c765be"
      },
      "execution_count": 17,
      "outputs": [
        {
          "output_type": "execute_result",
          "data": {
            "text/plain": [
              "['movie',\n",
              " 'film',\n",
              " \"n't\",\n",
              " 'one',\n",
              " 'like',\n",
              " 'time',\n",
              " 'good',\n",
              " 'character',\n",
              " 'would',\n",
              " 'get']"
            ]
          },
          "metadata": {},
          "execution_count": 17
        }
      ]
    },
    {
      "cell_type": "code",
      "source": [
        "def avg_word2vec(sentence):\n",
        "  words = word_tokenize(sentence)\n",
        "  if all(word not in model.wv.index_to_key for word in words):\n",
        "    return None\n",
        "  return np.mean([model.wv[word] for word in words if word in model.wv.index_to_key],axis=0)"
      ],
      "metadata": {
        "id": "_hqL9pRvozXt"
      },
      "execution_count": 69,
      "outputs": []
    },
    {
      "cell_type": "code",
      "source": [
        "X_word2vec = []\n",
        "for item in tqdm(df['review']):\n",
        "  ans = avg_word2vec(item)\n",
        "  if ans is None:\n",
        "    ans = np.array([0]*100, dtype=\"float32\")\n",
        "  X_word2vec.append(ans)"
      ],
      "metadata": {
        "colab": {
          "base_uri": "https://localhost:8080/"
        },
        "id": "xWijCmxHptOP",
        "outputId": "1cd06399-e5d1-4576-d2cb-1ccbcad265ab"
      },
      "execution_count": 70,
      "outputs": [
        {
          "output_type": "stream",
          "name": "stderr",
          "text": [
            "100%|██████████| 5000/5000 [08:44<00:00,  9.54it/s]\n"
          ]
        }
      ]
    },
    {
      "cell_type": "markdown",
      "source": [
        "## Divide data"
      ],
      "metadata": {
        "id": "ko72yiKWrDQD"
      }
    },
    {
      "cell_type": "code",
      "source": [
        "from sklearn.naive_bayes import MultinomialNB\n",
        "from sklearn.metrics import accuracy_score,classification_report\n",
        "from sklearn.model_selection import train_test_split"
      ],
      "metadata": {
        "id": "JIYegaBkA6re"
      },
      "execution_count": 74,
      "outputs": []
    },
    {
      "cell_type": "code",
      "source": [
        "X_BOW_train, X_BOW_test, y_train_bow, y_test_bow = train_test_split(X_BOW, y, test_size=20, random_state=2)\n",
        "X_TF_IDF_train, X_TF_IDF_test, y_train_tfidf, y_test_tfidf = train_test_split(X_TF_IDF, y, test_size=20, random_state=2)\n",
        "X_w2v_train, X_w2v_test, y_train_w2v, y_test_w2v = train_test_split(X_word2vec, y, test_size=20, random_state=2)"
      ],
      "metadata": {
        "id": "Hq-wNe0wjTDl"
      },
      "execution_count": 75,
      "outputs": []
    },
    {
      "cell_type": "code",
      "source": [],
      "metadata": {
        "id": "iU0znUp5QdnC"
      },
      "execution_count": 75,
      "outputs": []
    },
    {
      "cell_type": "markdown",
      "source": [
        "## Train models for Naive Bayes"
      ],
      "metadata": {
        "id": "R2cTUyB9AypJ"
      }
    },
    {
      "cell_type": "code",
      "source": [
        "sentiment_detection_model_BOW = MultinomialNB().fit(X_BOW_train,y_train_bow)\n",
        "sentiment_detection_model_TF_IDF = MultinomialNB().fit(X_TF_IDF_train,y_train_tfidf)"
      ],
      "metadata": {
        "colab": {
          "base_uri": "https://localhost:8080/"
        },
        "id": "LTiq2Uiqj3tZ",
        "outputId": "b4cc83ff-0735-441b-8e20-4b79bccc0a0d"
      },
      "execution_count": 76,
      "outputs": [
        {
          "output_type": "stream",
          "name": "stderr",
          "text": [
            "/usr/local/lib/python3.10/dist-packages/sklearn/utils/validation.py:1143: DataConversionWarning: A column-vector y was passed when a 1d array was expected. Please change the shape of y to (n_samples, ), for example using ravel().\n",
            "  y = column_or_1d(y, warn=True)\n",
            "/usr/local/lib/python3.10/dist-packages/sklearn/utils/validation.py:1143: DataConversionWarning: A column-vector y was passed when a 1d array was expected. Please change the shape of y to (n_samples, ), for example using ravel().\n",
            "  y = column_or_1d(y, warn=True)\n"
          ]
        }
      ]
    },
    {
      "cell_type": "markdown",
      "source": [
        "### Evalution of Naive Bayes"
      ],
      "metadata": {
        "id": "3LITuTfMA6SM"
      }
    },
    {
      "cell_type": "code",
      "source": [
        "y_pred_BOW = sentiment_detection_model_BOW.predict(X_BOW_test)\n",
        "y_pred_tfidf = sentiment_detection_model_TF_IDF.predict(X_TF_IDF_test)"
      ],
      "metadata": {
        "id": "RBfRz3nekOYL"
      },
      "execution_count": 77,
      "outputs": []
    },
    {
      "cell_type": "code",
      "source": [
        "print(accuracy_score(y_test_bow,y_pred_BOW))\n",
        "print(accuracy_score(y_test_tfidf,y_pred_tfidf))"
      ],
      "metadata": {
        "colab": {
          "base_uri": "https://localhost:8080/"
        },
        "id": "ru1SoGL3kjDk",
        "outputId": "048bc605-8cde-4761-9241-d628702a5297"
      },
      "execution_count": 78,
      "outputs": [
        {
          "output_type": "stream",
          "name": "stdout",
          "text": [
            "0.75\n",
            "0.8\n"
          ]
        }
      ]
    },
    {
      "cell_type": "code",
      "source": [
        "print(classification_report(y_pred_BOW,y_test_bow))\n",
        "print(classification_report(y_pred_tfidf,y_test_tfidf))"
      ],
      "metadata": {
        "colab": {
          "base_uri": "https://localhost:8080/"
        },
        "id": "xdx8q3y2qciI",
        "outputId": "0269366b-9ecb-4f9c-e9ee-e424672d1527"
      },
      "execution_count": 79,
      "outputs": [
        {
          "output_type": "stream",
          "name": "stdout",
          "text": [
            "              precision    recall  f1-score   support\n",
            "\n",
            "           0       0.67      0.89      0.76         9\n",
            "           1       0.88      0.64      0.74        11\n",
            "\n",
            "    accuracy                           0.75        20\n",
            "   macro avg       0.77      0.76      0.75        20\n",
            "weighted avg       0.78      0.75      0.75        20\n",
            "\n",
            "              precision    recall  f1-score   support\n",
            "\n",
            "           0       0.75      0.90      0.82        10\n",
            "           1       0.88      0.70      0.78        10\n",
            "\n",
            "    accuracy                           0.80        20\n",
            "   macro avg       0.81      0.80      0.80        20\n",
            "weighted avg       0.81      0.80      0.80        20\n",
            "\n"
          ]
        }
      ]
    },
    {
      "cell_type": "markdown",
      "source": [
        "## Train models using RandomForest"
      ],
      "metadata": {
        "id": "5xfTavtmBFKT"
      }
    },
    {
      "cell_type": "code",
      "source": [
        "from sklearn.ensemble import RandomForestClassifier\n",
        "forest = RandomForestClassifier())"
      ],
      "metadata": {
        "id": "JufttjkbrcXj"
      },
      "execution_count": 80,
      "outputs": []
    },
    {
      "cell_type": "code",
      "source": [
        "sentiment_detection_model_w2v = forest.fit(X_w2v_train,y_train_w2v)"
      ],
      "metadata": {
        "colab": {
          "base_uri": "https://localhost:8080/"
        },
        "id": "pK81t2atrI4L",
        "outputId": "efc106e4-e593-4c07-e4da-007975515654"
      },
      "execution_count": 81,
      "outputs": [
        {
          "output_type": "stream",
          "name": "stderr",
          "text": [
            "<ipython-input-81-aa13494d912e>:3: DataConversionWarning: A column-vector y was passed when a 1d array was expected. Please change the shape of y to (n_samples,), for example using ravel().\n",
            "  sentiment_detection_model_w2v = forest.fit(X_w2v_train,y_train_w2v)\n"
          ]
        }
      ]
    },
    {
      "cell_type": "code",
      "source": [
        "sentiment_detection_model_BOW = forest.fit(X_BOW_train,y_train_bow)\n",
        "sentiment_detection_model_TF_IDF = forest.fit(X_TF_IDF_train,y_train_tfidf)\n"
      ],
      "metadata": {
        "colab": {
          "base_uri": "https://localhost:8080/"
        },
        "id": "7WSz5IX7eXW1",
        "outputId": "39250989-5689-4f5b-b828-152623f915b7"
      },
      "execution_count": 86,
      "outputs": [
        {
          "output_type": "stream",
          "name": "stderr",
          "text": [
            "<ipython-input-86-ae54bf1e0025>:1: DataConversionWarning: A column-vector y was passed when a 1d array was expected. Please change the shape of y to (n_samples,), for example using ravel().\n",
            "  sentiment_detection_model_BOW = forest.fit(X_BOW_train,y_train_bow)\n",
            "<ipython-input-86-ae54bf1e0025>:2: DataConversionWarning: A column-vector y was passed when a 1d array was expected. Please change the shape of y to (n_samples,), for example using ravel().\n",
            "  sentiment_detection_model_TF_IDF = forest.fit(X_TF_IDF_train,y_train_tfidf)\n"
          ]
        },
        {
          "output_type": "stream",
          "name": "stdout",
          "text": [
            "0.75\n",
            "0.8\n"
          ]
        }
      ]
    },
    {
      "cell_type": "markdown",
      "source": [
        "### Evalution of RandomForest"
      ],
      "metadata": {
        "id": "Gdp2Z9tpBKNv"
      }
    },
    {
      "cell_type": "code",
      "source": [
        "y_pred_w2v = sentiment_detection_model_w2v.predict(X_w2v_test)\n",
        "y_pred_BOW = sentiment_detection_model_BOW.predict(X_BOW_test)\n",
        "y_pred_tfidf = sentiment_detection_model_TF_IDF.predict(X_TF_IDF_test)"
      ],
      "metadata": {
        "id": "a4mxzbtarSsA"
      },
      "execution_count": 82,
      "outputs": []
    },
    {
      "cell_type": "code",
      "source": [
        "print(accuracy_score(y_test_bow,y_pred_BOW))\n",
        "print(accuracy_score(y_test_tfidf,y_pred_tfidf))\n",
        "print(accuracy_score(y_test_w2v,y_pred_w2v))"
      ],
      "metadata": {
        "colab": {
          "base_uri": "https://localhost:8080/"
        },
        "id": "ZAKRjjtVrVrs",
        "outputId": "f2b2152d-4a7f-41eb-f32d-ca89390971e4"
      },
      "execution_count": 88,
      "outputs": [
        {
          "output_type": "stream",
          "name": "stdout",
          "text": [
            "0.75\n",
            "0.8\n",
            "0.55\n"
          ]
        }
      ]
    },
    {
      "cell_type": "code",
      "source": [
        "\n",
        "print(classification_report(y_pred_w2v,y_test_w2v))"
      ],
      "metadata": {
        "colab": {
          "base_uri": "https://localhost:8080/"
        },
        "id": "-On7W3--rZpB",
        "outputId": "ea326427-f4e9-498e-cabb-64457b1a7050"
      },
      "execution_count": 84,
      "outputs": [
        {
          "output_type": "stream",
          "name": "stdout",
          "text": [
            "              precision    recall  f1-score   support\n",
            "\n",
            "           0       0.50      0.67      0.57         9\n",
            "           1       0.62      0.45      0.53        11\n",
            "\n",
            "    accuracy                           0.55        20\n",
            "   macro avg       0.56      0.56      0.55        20\n",
            "weighted avg       0.57      0.55      0.55        20\n",
            "\n"
          ]
        }
      ]
    },
    {
      "cell_type": "code",
      "source": [
        "print(classification_report(y_pred_BOW,y_test_bow))\n",
        "print(classification_report(y_pred_tfidf,y_test_tfidf))"
      ],
      "metadata": {
        "colab": {
          "base_uri": "https://localhost:8080/"
        },
        "id": "oYFI7pvOst80",
        "outputId": "5dbf3485-d4b3-4da4-f9aa-b672b2a185ef"
      },
      "execution_count": 87,
      "outputs": [
        {
          "output_type": "stream",
          "name": "stdout",
          "text": [
            "              precision    recall  f1-score   support\n",
            "\n",
            "           0       0.92      0.73      0.81        15\n",
            "           1       0.50      0.80      0.62         5\n",
            "\n",
            "    accuracy                           0.75        20\n",
            "   macro avg       0.71      0.77      0.72        20\n",
            "weighted avg       0.81      0.75      0.76        20\n",
            "\n",
            "              precision    recall  f1-score   support\n",
            "\n",
            "           0       0.92      0.79      0.85        14\n",
            "           1       0.62      0.83      0.71         6\n",
            "\n",
            "    accuracy                           0.80        20\n",
            "   macro avg       0.77      0.81      0.78        20\n",
            "weighted avg       0.83      0.80      0.81        20\n",
            "\n"
          ]
        }
      ]
    },
    {
      "cell_type": "code",
      "source": [],
      "metadata": {
        "id": "Mu9vaWrcev_U"
      },
      "execution_count": null,
      "outputs": []
    }
  ]
}